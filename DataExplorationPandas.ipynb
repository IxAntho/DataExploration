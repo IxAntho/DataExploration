{
  "nbformat": 4,
  "nbformat_minor": 0,
  "metadata": {
    "colab": {
      "provenance": [],
      "authorship_tag": "ABX9TyNG4KKHO+Qyr+g05Qjs3S31",
      "include_colab_link": true
    },
    "kernelspec": {
      "name": "python3",
      "display_name": "Python 3"
    },
    "language_info": {
      "name": "python"
    }
  },
  "cells": [
    {
      "cell_type": "markdown",
      "metadata": {
        "id": "view-in-github",
        "colab_type": "text"
      },
      "source": [
        "<a href=\"https://colab.research.google.com/github/IxAntho/DataExploration/blob/main/DataExplorationPandas.ipynb\" target=\"_parent\"><img src=\"https://colab.research.google.com/assets/colab-badge.svg\" alt=\"Open In Colab\"/></a>"
      ]
    },
    {
      "cell_type": "code",
      "execution_count": null,
      "metadata": {
        "collapsed": true,
        "id": "5K5bH80mJ8sM"
      },
      "outputs": [],
      "source": [
        "import pandas as pd\n",
        "df = pd.read_csv('salaries_by_college_major.csv')\n",
        "# # Check the fisrt 5 rows\n",
        "# df.head()\n",
        "# # Check the number of rows and columns\n",
        "# df.shape\n",
        "# # Check the names of columns\n",
        "# df.columns\n",
        "# # Check for NaN values\n",
        "# df.isna()\n",
        "# # Check the last rows\n",
        "# df.tail()\n",
        "# # Remove rows with NaN values\n",
        "clean_df = df.dropna()\n",
        "# clean_df.tail()\n",
        "\n",
        "# clean_df['Starting Median Salary']\n",
        "# clean_df['Starting Median Salary'].max()\n",
        "# clean_df['Starting Median Salary'].idxmax()\n",
        "# clean_df['Undergraduate Major'].loc[43]\n",
        "# clean_df.loc[43]\n",
        "\n",
        "# clean_df['Mid-Career Median Salary'].idxmax()\n",
        "# clean_df.loc[8]\n",
        "\n",
        "# clean_df['Starting Median Salary'].idxmin()\n",
        "# clean_df.loc[49]\n",
        "\n",
        "# clean_df['Mid-Career Median Salary'].idxmin()\n",
        "# clean_df.loc[18]\n",
        "\n",
        "spread_col = clean_df['Mid-Career 90th Percentile Salary'].subtract(clean_df['Mid-Career 10th Percentile Salary'])\n",
        "clean_df.insert(1, 'Spread', spread_col)\n",
        "# clean_df.head()\n",
        "\n",
        "# low_risk = clean_df.sort_values('Spread')\n",
        "# low_risk[['Undergraduate Major', 'Spread']].head()\n",
        "\n",
        "# highest_potential = clean_df.sort_values('Mid-Career 90th Percentile Salary', ascending=False)\n",
        "# highest_potential[['Undergraduate Major', 'Mid-Career 90th Percentile Salary']].head()\n",
        "\n",
        "clean_df.groupby('Group').count()\n",
        "# To visualize better our data\n",
        "pd.options.display.float_format = '{:,.2f}'.format\n",
        "# clean_df.groupby('Group').mean()"
      ]
    }
  ]
}